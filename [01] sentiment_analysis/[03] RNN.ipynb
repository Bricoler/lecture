{
 "cells": [
  {
   "cell_type": "code",
   "execution_count": null,
   "metadata": {},
   "outputs": [],
   "source": [
    "import numpy as np\n",
    "import pandas as pd\n",
    "import tensorflow as tf\n",
    "from data_process import build_vocab, batch_iter, sentence_to_index\n",
    "from models import RNN"
   ]
  },
  {
   "cell_type": "markdown",
   "metadata": {},
   "source": [
    "# RNN Operation: $h_t=tanh(W*[x_t;h_{t-1}] + b)$\n",
    "<img src=\"https://cdn-images-1.medium.com/max/1600/1*NKhwsOYNUT5xU7Pyf6Znhg.png\">"
   ]
  },
  {
   "cell_type": "code",
   "execution_count": null,
   "metadata": {},
   "outputs": [],
   "source": [
    "batch_size = 2\n",
    "input_size = 5\n",
    "hidden_size = 3"
   ]
  },
  {
   "cell_type": "code",
   "execution_count": null,
   "metadata": {},
   "outputs": [],
   "source": [
    "x_input = np.random.normal(size=(batch_size, input_size))\n",
    "prev_state = np.random.normal(size=(batch_size, hidden_size))\n",
    "w = np.random.normal(size=(input_size + hidden_size, hidden_size))\n",
    "b = np.random.normal(size=(hidden_size))\n",
    "print('x_input:', x_input, '\\n')\n",
    "print('prev_state:', prev_state)"
   ]
  },
  {
   "cell_type": "code",
   "execution_count": null,
   "metadata": {},
   "outputs": [],
   "source": [
    "def RNN_numpy(x_input, previous_state, w, b):\n",
    "    x = np.concatenate((x_input, previous_state), axis=1)\n",
    "    state = np.tanh(np.add(np.matmul(x, w), b))\n",
    "    output = state\n",
    "    return output, state"
   ]
  },
  {
   "cell_type": "code",
   "execution_count": null,
   "metadata": {},
   "outputs": [],
   "source": [
    "output, state = RNN_numpy(x_input, prev_state, w, b)\n",
    "print('output:', output, '\\n')\n",
    "print('state:', state, '\\n')\n",
    "print('w:', w, '\\n')\n",
    "print('b:', b)"
   ]
  },
  {
   "cell_type": "markdown",
   "metadata": {},
   "source": [
    "# RNN Operation using tensorflow"
   ]
  },
  {
   "cell_type": "code",
   "execution_count": null,
   "metadata": {},
   "outputs": [],
   "source": [
    "tf.reset_default_graph()\n",
    "x_input_tensor = tf.constant(x_input, dtype=tf.float32)\n",
    "prev_state_tensor = tf.constant(prev_state, dtype=tf.float32)"
   ]
  },
  {
   "cell_type": "code",
   "execution_count": null,
   "metadata": {},
   "outputs": [],
   "source": [
    "cell = tf.nn.rnn_cell.BasicRNNCell(hidden_size, reuse=tf.AUTO_REUSE)\n",
    "cell(x_input_tensor, prev_state_tensor)\n",
    "init1 = tf.assign(cell.trainable_variables[0], w)\n",
    "init2 = tf.assign(cell.trainable_variables[1], b)\n",
    "sess = tf.Session()\n",
    "sess.run([init1, init2])\n",
    "print('x_input_tensor:', sess.run(x_input_tensor), '\\n')\n",
    "print('prev_state_tensor:', sess.run(prev_state_tensor), '\\n')"
   ]
  },
  {
   "cell_type": "code",
   "execution_count": null,
   "metadata": {},
   "outputs": [],
   "source": [
    "output_tensor, state_tensor = cell(inputs=x_input_tensor, state=prev_state_tensor)\n",
    "print('output:', sess.run(output_tensor), '\\n')\n",
    "print('state:', sess.run(state_tensor), '\\n')\n",
    "for var in cell.trainable_variables:\n",
    "    print(var.name, '\\n', sess.run(var), '\\n')"
   ]
  },
  {
   "cell_type": "markdown",
   "metadata": {},
   "source": [
    "# Sentiment Analysis with RNN"
   ]
  },
  {
   "cell_type": "code",
   "execution_count": null,
   "metadata": {},
   "outputs": [],
   "source": [
    "train = pd.read_csv('./data/train-5T.txt', delimiter='\\t')\n",
    "test = pd.read_csv('./data/test-1T.txt', delimiter='\\t')"
   ]
  },
  {
   "cell_type": "code",
   "execution_count": null,
   "metadata": {},
   "outputs": [],
   "source": [
    "X_train = train.document\n",
    "Y_train = train.label\n",
    "X_test = test.document\n",
    "Y_test = test.label"
   ]
  },
  {
   "cell_type": "code",
   "execution_count": null,
   "metadata": {},
   "outputs": [],
   "source": [
    "max_vocab = 50000\n",
    "vocab, _, vocab_size = build_vocab(X_train, max_vocab)"
   ]
  },
  {
   "cell_type": "code",
   "execution_count": null,
   "metadata": {},
   "outputs": [],
   "source": [
    "batches = batch_iter(list(zip(X_train, Y_train)), batch_size=64, num_epochs=15)"
   ]
  },
  {
   "cell_type": "code",
   "execution_count": null,
   "metadata": {},
   "outputs": [],
   "source": [
    "config = tf.ConfigProto()\n",
    "config.gpu_options.allow_growth = True\n",
    "tf.reset_default_graph()\n",
    "sess = tf.Session(config=config)\n",
    "model = RNN(sess=sess, vocab_size=vocab_size, lr=1e-2)\n",
    "avgLoss = []\n",
    "x_test = sentence_to_index(X_test, vocab)\n",
    "\n",
    "for step, batch in enumerate(batches):\n",
    "    x_train, y_train = zip(*batch)\n",
    "    x_train = sentence_to_index(x_train, vocab)\n",
    "    l, _ = model.train(x_train, y_train)\n",
    "    avgLoss.append(l)\n",
    "    if step % 100 == 0:\n",
    "        test_loss = model.get_loss(x_test, Y_test)\n",
    "        print('batch:', '%04d' % step, 'train loss:', '%.5f' % np.mean(avgLoss), 'test loss:', '%.5f' % test_loss)\n",
    "        test_acc = model.get_accuracy(x_test, Y_test)\n",
    "        print('test accuracy:', '%.3f' % test_acc, '\\n')\n",
    "        avgLoss = []"
   ]
  }
 ],
 "metadata": {
  "kernelspec": {
   "display_name": "Python tensor",
   "language": "python",
   "name": "myenv"
  },
  "language_info": {
   "codemirror_mode": {
    "name": "ipython",
    "version": 3
   },
   "file_extension": ".py",
   "mimetype": "text/x-python",
   "name": "python",
   "nbconvert_exporter": "python",
   "pygments_lexer": "ipython3",
   "version": "3.6.4"
  }
 },
 "nbformat": 4,
 "nbformat_minor": 2
}
