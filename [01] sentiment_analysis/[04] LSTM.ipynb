{
 "cells": [
  {
   "cell_type": "code",
   "execution_count": null,
   "metadata": {},
   "outputs": [],
   "source": [
    "import numpy as np\n",
    "import pandas as pd\n",
    "import tensorflow as tf\n",
    "from data_process import build_vocab, batch_iter, sentence_to_index\n",
    "from models import LSTM, biLSTM, deepBiLSTM"
   ]
  },
  {
   "cell_type": "code",
   "execution_count": null,
   "metadata": {},
   "outputs": [],
   "source": [
    "train = pd.read_csv('./data/train-5T.txt', delimiter='\\t')\n",
    "test = pd.read_csv('./data/test-1T.txt', delimiter='\\t')"
   ]
  },
  {
   "cell_type": "code",
   "execution_count": null,
   "metadata": {},
   "outputs": [],
   "source": [
    "X_train = train.document\n",
    "Y_train = train.label\n",
    "X_test = test.document\n",
    "Y_test = test.label"
   ]
  },
  {
   "cell_type": "code",
   "execution_count": null,
   "metadata": {},
   "outputs": [],
   "source": [
    "max_vocab = 50000\n",
    "vocab, _, vocab_size = build_vocab(X_train, max_vocab)"
   ]
  },
  {
   "cell_type": "markdown",
   "metadata": {},
   "source": [
    "# Sentiment Analysis with LSTM"
   ]
  },
  {
   "cell_type": "code",
   "execution_count": null,
   "metadata": {},
   "outputs": [],
   "source": [
    "batches = batch_iter(list(zip(X_train, Y_train)), batch_size=64, num_epochs=15)"
   ]
  },
  {
   "cell_type": "code",
   "execution_count": null,
   "metadata": {},
   "outputs": [],
   "source": [
    "config = tf.ConfigProto()\n",
    "config.gpu_options.allow_growth = True\n",
    "tf.reset_default_graph()\n",
    "sess = tf.Session(config=config)\n",
    "model = LSTM(sess=sess, vocab_size=vocab_size, lr=1e-2)\n",
    "avgLoss = []\n",
    "x_test = sentence_to_index(X_test, vocab)\n",
    "\n",
    "for step, batch in enumerate(batches):\n",
    "    x_train, y_train = zip(*batch)\n",
    "    x_train = sentence_to_index(x_train, vocab)\n",
    "    l, _ = model.train(x_train, y_train)\n",
    "    avgLoss.append(l)\n",
    "    if step % 100 == 0:\n",
    "        test_loss = model.get_loss(x_test, Y_test)\n",
    "        print('batch:', '%04d' % step, 'train loss:', '%.5f' % np.mean(avgLoss), 'test loss:', '%.5f' % test_loss)\n",
    "        test_acc = model.get_accuracy(x_test, Y_test)\n",
    "        print('test accuracy:', '%.3f' % test_acc, '\\n')\n",
    "        avgLoss = []"
   ]
  },
  {
   "cell_type": "markdown",
   "metadata": {},
   "source": [
    "# Sentiment Analysis with biLSTM"
   ]
  },
  {
   "cell_type": "code",
   "execution_count": null,
   "metadata": {},
   "outputs": [],
   "source": [
    "batches = batch_iter(list(zip(X_train, Y_train)), batch_size=64, num_epochs=15)"
   ]
  },
  {
   "cell_type": "code",
   "execution_count": null,
   "metadata": {},
   "outputs": [],
   "source": [
    "############### biLSTM ###############\n",
    "config = tf.ConfigProto()\n",
    "config.gpu_options.allow_growth = True\n",
    "tf.reset_default_graph()\n",
    "sess = tf.Session(config=config)\n",
    "model = biLSTM(sess=sess, vocab_size=vocab_size, lr=1e-2)\n",
    "avgLoss = []\n",
    "x_test = sentence_to_index(X_test, vocab)\n",
    "\n",
    "for step, batch in enumerate(batches):\n",
    "    x_train, y_train = zip(*batch)\n",
    "    x_train = sentence_to_index(x_train, vocab)\n",
    "    l, _ = model.train(x_train, y_train)\n",
    "    avgLoss.append(l)\n",
    "    if step % 100 == 0:\n",
    "        test_loss = model.get_loss(x_test, Y_test)\n",
    "        print('batch:', '%04d' % step, 'train loss:', '%.5f' % np.mean(avgLoss), 'test loss:', '%.5f' % test_loss)\n",
    "        test_acc = model.get_accuracy(x_test, Y_test)\n",
    "        print('test accuracy:', '%.3f' % test_acc, '\\n')\n",
    "        avgLoss = []"
   ]
  },
  {
   "cell_type": "markdown",
   "metadata": {},
   "source": [
    "# Sentiment Analysis with deepBiLSTM"
   ]
  },
  {
   "cell_type": "code",
   "execution_count": null,
   "metadata": {},
   "outputs": [],
   "source": [
    "batches = batch_iter(list(zip(X_train, Y_train)), batch_size=64, num_epochs=15)"
   ]
  },
  {
   "cell_type": "code",
   "execution_count": null,
   "metadata": {},
   "outputs": [],
   "source": [
    "############# deepBiLSTM #############\n",
    "config = tf.ConfigProto()\n",
    "config.gpu_options.allow_growth = True\n",
    "tf.reset_default_graph()\n",
    "sess = tf.Session(config=config)\n",
    "model = deepBiLSTM(sess=sess, vocab_size=vocab_size, lr=1e-2)\n",
    "avgLoss = []\n",
    "x_test = sentence_to_index(X_test, vocab)\n",
    "\n",
    "for step, batch in enumerate(batches):\n",
    "    x_train, y_train = zip(*batch)\n",
    "    x_train = sentence_to_index(x_train, vocab)\n",
    "    l, _ = model.train(x_train, y_train)\n",
    "    avgLoss.append(l)\n",
    "    if step % 100 == 0:\n",
    "        test_loss = model.get_loss(x_test, Y_test)\n",
    "        print('batch:', '%04d' % step, 'train loss:', '%.5f' % np.mean(avgLoss), 'test loss:', '%.5f' % test_loss)\n",
    "        test_acc = model.get_accuracy(x_test, Y_test)\n",
    "        print('test accuracy:', '%.3f' % test_acc, '\\n')\n",
    "        avgLoss = []"
   ]
  }
 ],
 "metadata": {
  "kernelspec": {
   "display_name": "Python tensor",
   "language": "python",
   "name": "myenv"
  },
  "language_info": {
   "codemirror_mode": {
    "name": "ipython",
    "version": 3
   },
   "file_extension": ".py",
   "mimetype": "text/x-python",
   "name": "python",
   "nbconvert_exporter": "python",
   "pygments_lexer": "ipython3",
   "version": "3.6.4"
  }
 },
 "nbformat": 4,
 "nbformat_minor": 2
}
