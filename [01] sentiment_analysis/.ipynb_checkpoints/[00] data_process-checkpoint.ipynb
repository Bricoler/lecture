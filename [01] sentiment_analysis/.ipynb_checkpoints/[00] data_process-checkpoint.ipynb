{
 "cells": [
  {
   "cell_type": "code",
   "execution_count": 1,
   "metadata": {},
   "outputs": [],
   "source": [
    "from data_process import tokenizer_process, build_vocab, sentence_to_onehot, cal_idf, sentence_to_tfidf, sentence_to_index\n",
    "from pprint import pprint"
   ]
  },
  {
   "cell_type": "code",
   "execution_count": 2,
   "metadata": {},
   "outputs": [],
   "source": [
    "data = ['나는 생각한다 고로 나는 존재한다.',\n",
    "        '모든 국가는 그에 걸맞는 국가를 가진다.',\n",
    "        '이것 또한 지나가리라',\n",
    "        '죄는 미워하되 사람은 미워하지 마라.',\n",
    "        '일찍 일어나는 새가 벌레를 잡는다']"
   ]
  },
  {
   "cell_type": "code",
   "execution_count": 3,
   "metadata": {},
   "outputs": [
    {
     "name": "stdout",
     "output_type": "stream",
     "text": [
      "[['나는', '생각한다', '고로', '나는', '존재한다', '.'],\n",
      " ['모든', '국가는', '그에', '걸맞는', '국가를', '가진다', '.'],\n",
      " ['이것', '또한', '지나가리라'],\n",
      " ['죄는', '미워하되', '사람은', '미워하지', '마라', '.'],\n",
      " ['일찍', '일어나는', '새가', '벌레를', '잡는다']]\n"
     ]
    }
   ],
   "source": [
    "pprint(tokenizer_process(data))"
   ]
  },
  {
   "cell_type": "code",
   "execution_count": 4,
   "metadata": {},
   "outputs": [],
   "source": [
    "vocab, _, vocab_size = build_vocab(data)"
   ]
  },
  {
   "cell_type": "code",
   "execution_count": 5,
   "metadata": {},
   "outputs": [
    {
     "name": "stdout",
     "output_type": "stream",
     "text": [
      "dict_keys(['<PAD>', '<UNK>', '.', '나는', '생각한다', '고로', '존재한다', '모든', '국가는', '그에', '걸맞는', '국가를', '가진다', '이것', '또한', '지나가리라', '죄는', '미워하되', '사람은', '미워하지', '마라', '일찍', '일어나는', '새가', '벌레를', '잡는다'])\n"
     ]
    }
   ],
   "source": [
    "pprint(vocab.keys())"
   ]
  },
  {
   "cell_type": "code",
   "execution_count": 6,
   "metadata": {},
   "outputs": [
    {
     "name": "stdout",
     "output_type": "stream",
     "text": [
      "array([[0, 0, 1, 1, 1, 1, 1, 0, 0, 0, 0, 0, 0, 0, 0, 0, 0, 0, 0, 0, 0, 0,\n",
      "        0, 0, 0, 0],\n",
      "       [0, 0, 1, 0, 0, 0, 0, 1, 1, 1, 1, 1, 1, 0, 0, 0, 0, 0, 0, 0, 0, 0,\n",
      "        0, 0, 0, 0],\n",
      "       [0, 0, 0, 0, 0, 0, 0, 0, 0, 0, 0, 0, 0, 1, 1, 1, 0, 0, 0, 0, 0, 0,\n",
      "        0, 0, 0, 0],\n",
      "       [0, 0, 1, 0, 0, 0, 0, 0, 0, 0, 0, 0, 0, 0, 0, 0, 1, 1, 1, 1, 1, 0,\n",
      "        0, 0, 0, 0],\n",
      "       [0, 0, 0, 0, 0, 0, 0, 0, 0, 0, 0, 0, 0, 0, 0, 0, 0, 0, 0, 0, 0, 1,\n",
      "        1, 1, 1, 1]])\n"
     ]
    }
   ],
   "source": [
    "pprint(sentence_to_onehot(data, vocab))"
   ]
  },
  {
   "cell_type": "code",
   "execution_count": 7,
   "metadata": {},
   "outputs": [],
   "source": [
    "IDF = cal_idf(data, vocab)"
   ]
  },
  {
   "cell_type": "code",
   "execution_count": 8,
   "metadata": {},
   "outputs": [
    {
     "name": "stdout",
     "output_type": "stream",
     "text": [
      "array([[0.        , 0.        , 0.16735766, 0.91629073, 0.68721805,\n",
      "        0.68721805, 0.68721805, 0.        , 0.        , 0.        ,\n",
      "        0.        , 0.        , 0.        , 0.        , 0.        ,\n",
      "        0.        , 0.        , 0.        , 0.        , 0.        ,\n",
      "        0.        , 0.        , 0.        , 0.        , 0.        ,\n",
      "        0.        ],\n",
      "       [0.        , 0.        , 0.22314355, 0.        , 0.        ,\n",
      "        0.        , 0.        , 0.91629073, 0.91629073, 0.91629073,\n",
      "        0.91629073, 0.91629073, 0.91629073, 0.        , 0.        ,\n",
      "        0.        , 0.        , 0.        , 0.        , 0.        ,\n",
      "        0.        , 0.        , 0.        , 0.        , 0.        ,\n",
      "        0.        ],\n",
      "       [0.        , 0.        , 0.        , 0.        , 0.        ,\n",
      "        0.        , 0.        , 0.        , 0.        , 0.        ,\n",
      "        0.        , 0.        , 0.        , 0.91629073, 0.91629073,\n",
      "        0.91629073, 0.        , 0.        , 0.        , 0.        ,\n",
      "        0.        , 0.        , 0.        , 0.        , 0.        ,\n",
      "        0.        ],\n",
      "       [0.        , 0.        , 0.22314355, 0.        , 0.        ,\n",
      "        0.        , 0.        , 0.        , 0.        , 0.        ,\n",
      "        0.        , 0.        , 0.        , 0.        , 0.        ,\n",
      "        0.        , 0.91629073, 0.91629073, 0.91629073, 0.91629073,\n",
      "        0.91629073, 0.        , 0.        , 0.        , 0.        ,\n",
      "        0.        ],\n",
      "       [0.        , 0.        , 0.        , 0.        , 0.        ,\n",
      "        0.        , 0.        , 0.        , 0.        , 0.        ,\n",
      "        0.        , 0.        , 0.        , 0.        , 0.        ,\n",
      "        0.        , 0.        , 0.        , 0.        , 0.        ,\n",
      "        0.        , 0.91629073, 0.91629073, 0.91629073, 0.91629073,\n",
      "        0.91629073]])\n"
     ]
    }
   ],
   "source": [
    "pprint(sentence_to_tfidf(data, vocab, IDF))"
   ]
  },
  {
   "cell_type": "code",
   "execution_count": 9,
   "metadata": {},
   "outputs": [
    {
     "name": "stdout",
     "output_type": "stream",
     "text": [
      "[[3, 4, 5, 3, 6, 2, 0],\n",
      " [7, 8, 9, 10, 11, 12, 2],\n",
      " [13, 14, 15, 0, 0, 0, 0],\n",
      " [16, 17, 18, 19, 20, 2, 0],\n",
      " [21, 22, 23, 24, 25, 0, 0]]\n"
     ]
    }
   ],
   "source": [
    "pprint(sentence_to_index(data, vocab))"
   ]
  },
  {
   "cell_type": "code",
   "execution_count": 10,
   "metadata": {},
   "outputs": [
    {
     "name": "stdout",
     "output_type": "stream",
     "text": [
      "[[3, 4, 5, 3, 6, 2, 0, 0, 0, 0],\n",
      " [7, 8, 9, 10, 11, 12, 2, 0, 0, 0],\n",
      " [13, 14, 15, 0, 0, 0, 0, 0, 0, 0],\n",
      " [16, 17, 18, 19, 20, 2, 0, 0, 0, 0],\n",
      " [21, 22, 23, 24, 25, 0, 0, 0, 0, 0]]\n"
     ]
    }
   ],
   "source": [
    "pprint(sentence_to_index(data,vocab, 10))"
   ]
  }
 ],
 "metadata": {
  "kernelspec": {
   "display_name": "Python tensor",
   "language": "python",
   "name": "myenv"
  },
  "language_info": {
   "codemirror_mode": {
    "name": "ipython",
    "version": 3
   },
   "file_extension": ".py",
   "mimetype": "text/x-python",
   "name": "python",
   "nbconvert_exporter": "python",
   "pygments_lexer": "ipython3",
   "version": "3.6.4"
  }
 },
 "nbformat": 4,
 "nbformat_minor": 2
}
