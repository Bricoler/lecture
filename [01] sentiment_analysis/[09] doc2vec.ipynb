{
 "cells": [
  {
   "cell_type": "code",
   "execution_count": null,
   "metadata": {},
   "outputs": [],
   "source": [
    "import warnings\n",
    "warnings.filterwarnings(action='ignore', category=UserWarning, module='gensim')\n",
    "import pandas as pd\n",
    "from gensim.models.doc2vec import Doc2Vec, TaggedDocument\n",
    "from models import three_layer_net\n",
    "from data_process import morphs_process, batch_iter\n",
    "import tensorflow as tf\n",
    "import numpy as np"
   ]
  },
  {
   "cell_type": "code",
   "execution_count": null,
   "metadata": {},
   "outputs": [],
   "source": [
    "train = pd.read_csv('./data/train-50T.txt', delimiter='\\t')\n",
    "test = pd.read_csv('./data/test-10T.txt', delimiter='\\t')\n",
    "X_train = train.document\n",
    "Y_train = train.label\n",
    "X_test = test.document\n",
    "Y_test = test.label"
   ]
  },
  {
   "cell_type": "code",
   "execution_count": null,
   "metadata": {},
   "outputs": [],
   "source": [
    "X_train = morphs_process(X_train)\n",
    "X_test = morphs_process(X_test)"
   ]
  },
  {
   "cell_type": "code",
   "execution_count": null,
   "metadata": {},
   "outputs": [],
   "source": [
    "tagged_data = [TaggedDocument(words=_d, tags=[str(i)]) for i, _d in enumerate(X_train)]"
   ]
  },
  {
   "cell_type": "code",
   "execution_count": null,
   "metadata": {},
   "outputs": [],
   "source": [
    "num_epochs_per_cycle = 5\n",
    "num_cycles = 10\n",
    "vec_size = 100\n",
    "alpha = 1e-1\n",
    "min_alpha = 1e-3\n",
    "dv_model = Doc2Vec(vector_size=vec_size, alpha=alpha, min_count=2, dm=0)\n",
    "dv_model.build_vocab(tagged_data)\n",
    "for cycle in range(num_cycles):\n",
    "    dv_model.train(tagged_data, total_examples=dv_model.corpus_count, epochs=num_epochs_per_cycle, start_alpha=alpha, end_alpha=min_alpha)\n",
    "    print('cycle:', '%02d' % (cycle+1))"
   ]
  },
  {
   "cell_type": "code",
   "execution_count": null,
   "metadata": {},
   "outputs": [],
   "source": [
    "X_train_vector = []\n",
    "X_test_vector = []\n",
    "for i in range(len(X_train)):\n",
    "    X_train_vector.append(dv_model.docvecs[str(i)])\n",
    "for i in range(len(X_test)):\n",
    "    X_test_vector.append(dv_model.infer_vector(X_test[i], alpha=alpha, min_alpha=min_alpha, steps=5))"
   ]
  },
  {
   "cell_type": "code",
   "execution_count": null,
   "metadata": {},
   "outputs": [],
   "source": [
    "batches = batch_iter(list(zip(X_train_vector, Y_train)), batch_size=64, num_epochs=30)"
   ]
  },
  {
   "cell_type": "code",
   "execution_count": null,
   "metadata": {},
   "outputs": [],
   "source": [
    "config = tf.ConfigProto()\n",
    "config.gpu_options.allow_growth = True\n",
    "tf.reset_default_graph()\n",
    "sess = tf.Session(config=config)\n",
    "model = three_layer_net(sess=sess, vocab_size=vec_size)\n",
    "avgLoss = []\n",
    "for step, batch in enumerate(batches):\n",
    "    x_train, y_train = zip(*batch)\n",
    "    l, _ = model.train(x_train, y_train)\n",
    "    avgLoss.append(l)\n",
    "    if step % 1000 == 0:\n",
    "        print('batch:', '%05d' % step, 'loss:', '%05f' % np.mean(avgLoss))\n",
    "        avgLoss = []"
   ]
  },
  {
   "cell_type": "code",
   "execution_count": null,
   "metadata": {},
   "outputs": [],
   "source": [
    "batches = batch_iter(list(zip(X_test_vector, Y_test)), batch_size=64, num_epochs=1)"
   ]
  },
  {
   "cell_type": "code",
   "execution_count": null,
   "metadata": {},
   "outputs": [],
   "source": [
    "acc = 0\n",
    "for batch in batches:\n",
    "    x_test, y_test = zip(*batch)\n",
    "    acc += model.get_accuracy(x_test, y_test) * len(x_test)\n",
    "acc /= len(X_test)\n",
    "print(acc)"
   ]
  }
 ],
 "metadata": {
  "kernelspec": {
   "display_name": "Python tensor",
   "language": "python",
   "name": "tensor"
  },
  "language_info": {
   "codemirror_mode": {
    "name": "ipython",
    "version": 3
   },
   "file_extension": ".py",
   "mimetype": "text/x-python",
   "name": "python",
   "nbconvert_exporter": "python",
   "pygments_lexer": "ipython3",
   "version": "3.6.5"
  }
 },
 "nbformat": 4,
 "nbformat_minor": 2
}
