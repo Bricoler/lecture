{
 "cells": [
  {
   "cell_type": "code",
   "execution_count": null,
   "metadata": {},
   "outputs": [],
   "source": [
    "import numpy as np\n",
    "import pandas as pd\n",
    "import tensorflow as tf\n",
    "from data_process import *\n",
    "from models import logistic_regression, LSTM, CNN"
   ]
  },
  {
   "cell_type": "code",
   "execution_count": null,
   "metadata": {},
   "outputs": [],
   "source": [
    "train = pd.read_csv('./data/train-50T.txt', delimiter='\\t')\n",
    "test = pd.read_csv('./data/test-10T.txt', delimiter='\\t')"
   ]
  },
  {
   "cell_type": "code",
   "execution_count": null,
   "metadata": {},
   "outputs": [],
   "source": [
    "X_train = train.document\n",
    "Y_train = train.label\n",
    "X_test = test.document\n",
    "Y_test = test.label"
   ]
  },
  {
   "cell_type": "code",
   "execution_count": null,
   "metadata": {},
   "outputs": [],
   "source": [
    "max_vocab = 50000\n",
    "vocab, _, vocab_size = build_vocab_pos(X_train, max_vocab)"
   ]
  },
  {
   "cell_type": "code",
   "execution_count": null,
   "metadata": {},
   "outputs": [],
   "source": [
    "batches = batch_iter(list(zip(X_train, Y_train)), batch_size=64, num_epochs=5)"
   ]
  },
  {
   "cell_type": "code",
   "execution_count": null,
   "metadata": {},
   "outputs": [],
   "source": [
    "############ logistic regression ############\n",
    "config = tf.ConfigProto()\n",
    "config.gpu_options.allow_growth = True\n",
    "tf.reset_default_graph()\n",
    "sess = tf.Session(config=config)\n",
    "model = logistic_regression(sess=sess, vocab_size=vocab_size)\n",
    "avgLoss = []\n",
    "for step, batch in enumerate(batches):\n",
    "    x_train, y_train = zip(*batch)\n",
    "    x_train = sentence_to_onehot_pos(x_train, vocab)\n",
    "    l, _ = model.train(x_train, y_train)\n",
    "    avgLoss.append(l)\n",
    "    if step % 500 == 0:\n",
    "        print('batch:', '%04d' % step, 'loss:', '%05f' % np.mean(avgLoss))\n",
    "        avgLoss = []"
   ]
  },
  {
   "cell_type": "code",
   "execution_count": null,
   "metadata": {},
   "outputs": [],
   "source": [
    "batches = batch_iter(list(zip(X_test, Y_test)), batch_size=64, num_epochs=1)"
   ]
  },
  {
   "cell_type": "code",
   "execution_count": null,
   "metadata": {},
   "outputs": [],
   "source": [
    "acc = 0\n",
    "for batch in batches:\n",
    "    x_test, y_test = zip(*batch)\n",
    "    x_test = sentence_to_onehot_pos(x_test, vocab)\n",
    "    acc += model.get_accuracy(x_test, y_test) * len(x_test)\n",
    "acc /= len(X_test)\n",
    "print(acc)"
   ]
  },
  {
   "cell_type": "code",
   "execution_count": null,
   "metadata": {},
   "outputs": [],
   "source": [
    "batches = batch_iter(list(zip(X_train, Y_train)), batch_size=64, num_epochs=5)"
   ]
  },
  {
   "cell_type": "code",
   "execution_count": null,
   "metadata": {},
   "outputs": [],
   "source": [
    "################ LSTM ################\n",
    "config = tf.ConfigProto()\n",
    "config.gpu_options.allow_growth = True\n",
    "tf.reset_default_graph()\n",
    "sess = tf.Session(config=config)\n",
    "model = LSTM(sess=sess, vocab_size=vocab_size)\n",
    "avgLoss = []\n",
    "for step, batch in enumerate(batches):\n",
    "    x_train, y_train = zip(*batch)\n",
    "    x_train = sentence_to_index_pos(x_train, vocab)\n",
    "    l, _ = model.train(x_train, y_train)\n",
    "    avgLoss.append(l)\n",
    "    if step % 500 == 0:\n",
    "        print('batch:', '%04d' % step, 'loss:', '%05f' % np.mean(avgLoss))\n",
    "        avgLoss = []"
   ]
  },
  {
   "cell_type": "code",
   "execution_count": null,
   "metadata": {},
   "outputs": [],
   "source": [
    "batches = batch_iter(list(zip(X_test, Y_test)), batch_size=64, num_epochs=1)"
   ]
  },
  {
   "cell_type": "code",
   "execution_count": null,
   "metadata": {},
   "outputs": [],
   "source": [
    "acc = 0\n",
    "for batch in batches:\n",
    "    x_test, y_test = zip(*batch)\n",
    "    x_test = sentence_to_index_pos(x_test, vocab, 10)\n",
    "    acc += model.get_accuracy(x_test, y_test) * len(x_test)\n",
    "acc /= len(X_test)\n",
    "print(acc)"
   ]
  },
  {
   "cell_type": "code",
   "execution_count": null,
   "metadata": {},
   "outputs": [],
   "source": [
    "tester = sentence_to_index_pos(['너무재밓없었다그래서보는것을추천하지않는다...!', '생각보다꿀잼'], vocab)\n",
    "print(model.predict(tester))"
   ]
  },
  {
   "cell_type": "code",
   "execution_count": null,
   "metadata": {},
   "outputs": [],
   "source": [
    "batches = batch_iter(list(zip(X_train, Y_train)), batch_size=64, num_epochs=5)"
   ]
  },
  {
   "cell_type": "code",
   "execution_count": null,
   "metadata": {},
   "outputs": [],
   "source": [
    "################ CNN ################\n",
    "config = tf.ConfigProto()\n",
    "config.gpu_options.allow_growth = True\n",
    "tf.reset_default_graph()\n",
    "sess = tf.Session(config=config)\n",
    "max_length = 30\n",
    "model = CNN(sess=sess, vocab_size=vocab_size, sequence_length=max_length)\n",
    "avgLoss = []\n",
    "for step, batch in enumerate(batches):\n",
    "    x_train, y_train = zip(*batch)\n",
    "    x_train = sentence_to_index_pos(x_train, vocab, max_length)\n",
    "    l, _ = model.train(x_train, y_train)\n",
    "    avgLoss.append(l)\n",
    "    if step % 500 == 0:\n",
    "        print('batch:', '%04d' % step, 'loss:', '%05f' % np.mean(avgLoss))\n",
    "        avgLoss = []"
   ]
  },
  {
   "cell_type": "code",
   "execution_count": null,
   "metadata": {},
   "outputs": [],
   "source": [
    "batches = batch_iter(list(zip(X_test, Y_test)), batch_size=64, num_epochs=1)"
   ]
  },
  {
   "cell_type": "code",
   "execution_count": null,
   "metadata": {},
   "outputs": [],
   "source": [
    "acc = 0\n",
    "for batch in batches:\n",
    "    x_test, y_test = zip(*batch)\n",
    "    x_test = sentence_to_index_pos(x_test, vocab, max_length)\n",
    "    acc += model.get_accuracy(x_test, y_test) * len(x_test)\n",
    "acc /= len(X_test)\n",
    "print(acc)"
   ]
  },
  {
   "cell_type": "code",
   "execution_count": null,
   "metadata": {},
   "outputs": [],
   "source": [
    "tester = sentence_to_index_pos(['너무재밓없었다그래서보는것을추천하지않는다...!', '생각보다꿀잼', '심오하면서잔잔하니감동적이다...', '앞부분 좀 졸림'], vocab, max_length)\n",
    "print(model.predict(tester))"
   ]
  }
 ],
 "metadata": {
  "kernelspec": {
   "display_name": "Python tensor",
   "language": "python",
   "name": "tensor"
  },
  "language_info": {
   "codemirror_mode": {
    "name": "ipython",
    "version": 3
   },
   "file_extension": ".py",
   "mimetype": "text/x-python",
   "name": "python",
   "nbconvert_exporter": "python",
   "pygments_lexer": "ipython3",
   "version": "3.6.5"
  }
 },
 "nbformat": 4,
 "nbformat_minor": 2
}
