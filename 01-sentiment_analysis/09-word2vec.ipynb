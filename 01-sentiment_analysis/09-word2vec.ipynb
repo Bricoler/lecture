{
 "cells": [
  {
   "cell_type": "code",
   "execution_count": null,
   "metadata": {},
   "outputs": [],
   "source": [
    "import gensim\n",
    "import numpy as np\n",
    "import pandas as pd\n",
    "import tensorflow as tf\n",
    "from data_process import morphs_process, batch_iter, sentence_to_index_morphs\n",
    "from word2vec import make_embedding_vectors\n",
    "from models import LSTM, CNN"
   ]
  },
  {
   "cell_type": "code",
   "execution_count": null,
   "metadata": {},
   "outputs": [],
   "source": [
    "train = pd.read_csv('./data/train-50T.txt', delimiter='\\t')\n",
    "test = pd.read_csv('./data/test-10T.txt', delimiter='\\t')"
   ]
  },
  {
   "cell_type": "code",
   "execution_count": null,
   "metadata": {},
   "outputs": [],
   "source": [
    "data = train.append(test)\n",
    "data = data.document"
   ]
  },
  {
   "cell_type": "markdown",
   "metadata": {},
   "source": [
    "# Show embedding vectors"
   ]
  },
  {
   "cell_type": "code",
   "execution_count": null,
   "metadata": {},
   "outputs": [],
   "source": [
    "tokens = morphs_process(data)\n",
    "wv_model = gensim.models.Word2Vec(min_count=1, window=5, size=300)\n",
    "wv_model.build_vocab(tokens)\n",
    "wv_model.train(tokens, total_examples=wv_model.corpus_count, epochs=wv_model.epochs)\n",
    "word_vectors = wv_model.wv"
   ]
  },
  {
   "cell_type": "code",
   "execution_count": null,
   "metadata": {},
   "outputs": [],
   "source": [
    "print(word_vectors.most_similar('괜찮'))"
   ]
  },
  {
   "cell_type": "code",
   "execution_count": null,
   "metadata": {},
   "outputs": [],
   "source": [
    "del wv_model, word_vectors"
   ]
  },
  {
   "cell_type": "markdown",
   "metadata": {},
   "source": [
    "# Get embedding vectors using word2vec"
   ]
  },
  {
   "cell_type": "code",
   "execution_count": null,
   "metadata": {},
   "outputs": [],
   "source": [
    "embedding, vocab, vocab_size = make_embedding_vectors(list(data))"
   ]
  },
  {
   "cell_type": "code",
   "execution_count": null,
   "metadata": {},
   "outputs": [],
   "source": [
    "train = pd.read_csv('./data/train-5T.txt', delimiter='\\t')\n",
    "test = pd.read_csv('./data/test-1T.txt', delimiter='\\t')\n",
    "X_train = train.document\n",
    "Y_train = train.label\n",
    "X_test = test.document\n",
    "Y_test = test.label"
   ]
  },
  {
   "cell_type": "markdown",
   "metadata": {},
   "source": [
    "# Sentiment Analysis with LSTM using morphs & word2vec"
   ]
  },
  {
   "cell_type": "code",
   "execution_count": null,
   "metadata": {},
   "outputs": [],
   "source": [
    "batches = batch_iter(list(zip(X_train, Y_train)), batch_size=64, num_epochs=15)"
   ]
  },
  {
   "cell_type": "code",
   "execution_count": null,
   "metadata": {},
   "outputs": [],
   "source": [
    "config = tf.ConfigProto()\n",
    "config.gpu_options.allow_growth = True\n",
    "tf.reset_default_graph()\n",
    "sess = tf.Session(config=config)\n",
    "model = LSTM(sess=sess, vocab_size=vocab_size, lr=1e-2)\n",
    "model.embedding_assign(embedding)\n",
    "train_loss = []\n",
    "train_acc = []\n",
    "test_loss = []\n",
    "test_acc = []\n",
    "\n",
    "for step, batch in enumerate(batches):\n",
    "    x_train, y_train = zip(*batch)\n",
    "    x_train = sentence_to_index_morphs(x_train, vocab)\n",
    "    acc = model.get_accuracy(x_train, y_train)\n",
    "    l, _ = model.train(x_train, y_train)\n",
    "    train_loss.append(l)\n",
    "    train_acc.append(acc)\n",
    "    \n",
    "    if step % 100 == 0:\n",
    "        test_batches = batch_iter(list(zip(X_test, Y_test)), batch_size=64, num_epochs=1)\n",
    "        for test_batch in test_batches:\n",
    "            x_test, y_test = zip(*test_batch)\n",
    "            x_test = sentence_to_index_morphs(x_test, vocab)\n",
    "            t_acc = model.get_accuracy(x_test, y_test)\n",
    "            t_loss = model.get_loss(x_test, y_test)\n",
    "            test_loss.append(t_loss)\n",
    "            test_acc.append(t_acc)\n",
    "        print('batch:', '%04d' % step, '\\ntrain loss:', '%.5f' % np.mean(train_loss), '\\ttest loss:', '%.5f' % np.mean(test_loss))\n",
    "        print('train accuracy:', '%.3f' % np.mean(train_acc), '\\ttest accuracy:', '%.3f' % np.mean(test_acc), '\\n')\n",
    "        train_loss = []\n",
    "        train_acc = []\n",
    "        test_loss = []\n",
    "        test_acc = []"
   ]
  },
  {
   "cell_type": "markdown",
   "metadata": {},
   "source": [
    "# Sentiment Analysis with CNN using morphs & word2vec"
   ]
  },
  {
   "cell_type": "code",
   "execution_count": null,
   "metadata": {},
   "outputs": [],
   "source": [
    "batches = batch_iter(list(zip(X_train, Y_train)), batch_size=64, num_epochs=15)"
   ]
  },
  {
   "cell_type": "code",
   "execution_count": null,
   "metadata": {},
   "outputs": [],
   "source": [
    "config = tf.ConfigProto()\n",
    "config.gpu_options.allow_growth = True\n",
    "tf.reset_default_graph()\n",
    "sess = tf.Session(config=config)\n",
    "max_length = 30\n",
    "model = CNN(sess=sess, vocab_size=vocab_size, sequence_length=max_length, lr=1e-2)\n",
    "model.embedding_assign(embedding)\n",
    "train_loss = []\n",
    "train_acc = []\n",
    "test_loss = []\n",
    "test_acc = []\n",
    "\n",
    "for step, batch in enumerate(batches):\n",
    "    x_train, y_train = zip(*batch)\n",
    "    x_train = sentence_to_index_morphs(x_train, vocab, max_length)\n",
    "    acc = model.get_accuracy(x_train, y_train)\n",
    "    l, _ = model.train(x_train, y_train)\n",
    "    train_loss.append(l)\n",
    "    train_acc.append(acc)\n",
    "    \n",
    "    if step % 100 == 0:\n",
    "        test_batches = batch_iter(list(zip(X_test, Y_test)), batch_size=64, num_epochs=1)\n",
    "        for test_batch in test_batches:\n",
    "            x_test, y_test = zip(*test_batch)\n",
    "            x_test = sentence_to_index_morphs(x_test, vocab, max_length)\n",
    "            t_acc = model.get_accuracy(x_test, y_test)\n",
    "            t_loss = model.get_loss(x_test, y_test)\n",
    "            test_loss.append(t_loss)\n",
    "            test_acc.append(t_acc)\n",
    "        print('batch:', '%04d' % step, '\\ntrain loss:', '%.5f' % np.mean(train_loss), '\\ttest loss:', '%.5f' % np.mean(test_loss))\n",
    "        print('train accuracy:', '%.3f' % np.mean(train_acc), '\\ttest accuracy:', '%.3f' % np.mean(test_acc), '\\n')\n",
    "        train_loss = []\n",
    "        train_acc = []\n",
    "        test_loss = []\n",
    "        test_acc = []"
   ]
  }
 ],
 "metadata": {
  "kernelspec": {
   "display_name": "Python tensor-cpu",
   "language": "python",
   "name": "myenv"
  },
  "language_info": {
   "codemirror_mode": {
    "name": "ipython",
    "version": 3
   },
   "file_extension": ".py",
   "mimetype": "text/x-python",
   "name": "python",
   "nbconvert_exporter": "python",
   "pygments_lexer": "ipython3",
   "version": "3.6.5"
  }
 },
 "nbformat": 4,
 "nbformat_minor": 2
}
